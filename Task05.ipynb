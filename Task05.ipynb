{
  "nbformat": 4,
  "nbformat_minor": 0,
  "metadata": {
    "colab": {
      "provenance": [],
      "authorship_tag": "ABX9TyN4iYWiAya3DpWtM30lp+0S",
      "include_colab_link": true
    },
    "kernelspec": {
      "name": "python3",
      "display_name": "Python 3"
    },
    "language_info": {
      "name": "python"
    }
  },
  "cells": [
    {
      "cell_type": "markdown",
      "metadata": {
        "id": "view-in-github",
        "colab_type": "text"
      },
      "source": [
        "<a href=\"https://colab.research.google.com/github/Riswanpk/OIBSIP/blob/main/Task05.ipynb\" target=\"_parent\"><img src=\"https://colab.research.google.com/assets/colab-badge.svg\" alt=\"Open In Colab\"/></a>"
      ]
    },
    {
      "cell_type": "markdown",
      "source": [
        "# TASK 05 : SALES PREDICTION USING PYTHON"
      ],
      "metadata": {
        "id": "yPwAeY9aFXBv"
      }
    },
    {
      "cell_type": "markdown",
      "source": [
        "**Step 01 : Importing Libraries**"
      ],
      "metadata": {
        "id": "N_GyTvjHlnM3"
      }
    },
    {
      "cell_type": "code",
      "source": [
        "import pandas as pd\n",
        "from sklearn.linear_model import LinearRegression\n",
        "from sklearn.model_selection import train_test_split\n",
        "from sklearn.metrics import mean_squared_error,r2_score\n",
        "import matplotlib.pyplot as plt"
      ],
      "metadata": {
        "id": "jQsihnpsgetc"
      },
      "execution_count": null,
      "outputs": []
    },
    {
      "cell_type": "markdown",
      "source": [
        "**Step 02 : Load The Dataset**"
      ],
      "metadata": {
        "id": "MIknjX6clrO5"
      }
    },
    {
      "cell_type": "code",
      "source": [
        "data=pd.read_csv('Advertising.csv')"
      ],
      "metadata": {
        "id": "Qtk-ZQ-phYE4"
      },
      "execution_count": null,
      "outputs": []
    },
    {
      "cell_type": "markdown",
      "source": [
        "**Step 03 : Separate Into Features and Targer Variables**"
      ],
      "metadata": {
        "id": "JkFY1ME1lzXw"
      }
    },
    {
      "cell_type": "code",
      "source": [
        "x=data[['TV','Newspaper','Radio']]\n",
        "y=data['Sales']"
      ],
      "metadata": {
        "id": "tbpGuE_Ihddp"
      },
      "execution_count": null,
      "outputs": []
    },
    {
      "cell_type": "markdown",
      "source": [
        "**Step 04 : Split the Data into Training and Testing Set**"
      ],
      "metadata": {
        "id": "k-18D6aLl6ww"
      }
    },
    {
      "cell_type": "code",
      "source": [
        "x_train,x_test,y_train,y_test=train_test_split(x,y,test_size=0.2,random_state=42)"
      ],
      "metadata": {
        "id": "HUBGZi2GhlQx"
      },
      "execution_count": null,
      "outputs": []
    },
    {
      "cell_type": "markdown",
      "source": [
        "**Step 05 : Creating a Linear Regression Model**"
      ],
      "metadata": {
        "id": "2rmevckFmEHp"
      }
    },
    {
      "cell_type": "code",
      "source": [
        "model=LinearRegression()\n",
        "model.fit(x_train,y_train)"
      ],
      "metadata": {
        "colab": {
          "base_uri": "https://localhost:8080/",
          "height": 74
        },
        "id": "37o-63aihupx",
        "outputId": "0c9a7680-0f18-47fe-8790-a3f5c5f5696c"
      },
      "execution_count": null,
      "outputs": [
        {
          "output_type": "execute_result",
          "data": {
            "text/plain": [
              "LinearRegression()"
            ],
            "text/html": [
              "<style>#sk-container-id-13 {color: black;background-color: white;}#sk-container-id-13 pre{padding: 0;}#sk-container-id-13 div.sk-toggleable {background-color: white;}#sk-container-id-13 label.sk-toggleable__label {cursor: pointer;display: block;width: 100%;margin-bottom: 0;padding: 0.3em;box-sizing: border-box;text-align: center;}#sk-container-id-13 label.sk-toggleable__label-arrow:before {content: \"▸\";float: left;margin-right: 0.25em;color: #696969;}#sk-container-id-13 label.sk-toggleable__label-arrow:hover:before {color: black;}#sk-container-id-13 div.sk-estimator:hover label.sk-toggleable__label-arrow:before {color: black;}#sk-container-id-13 div.sk-toggleable__content {max-height: 0;max-width: 0;overflow: hidden;text-align: left;background-color: #f0f8ff;}#sk-container-id-13 div.sk-toggleable__content pre {margin: 0.2em;color: black;border-radius: 0.25em;background-color: #f0f8ff;}#sk-container-id-13 input.sk-toggleable__control:checked~div.sk-toggleable__content {max-height: 200px;max-width: 100%;overflow: auto;}#sk-container-id-13 input.sk-toggleable__control:checked~label.sk-toggleable__label-arrow:before {content: \"▾\";}#sk-container-id-13 div.sk-estimator input.sk-toggleable__control:checked~label.sk-toggleable__label {background-color: #d4ebff;}#sk-container-id-13 div.sk-label input.sk-toggleable__control:checked~label.sk-toggleable__label {background-color: #d4ebff;}#sk-container-id-13 input.sk-hidden--visually {border: 0;clip: rect(1px 1px 1px 1px);clip: rect(1px, 1px, 1px, 1px);height: 1px;margin: -1px;overflow: hidden;padding: 0;position: absolute;width: 1px;}#sk-container-id-13 div.sk-estimator {font-family: monospace;background-color: #f0f8ff;border: 1px dotted black;border-radius: 0.25em;box-sizing: border-box;margin-bottom: 0.5em;}#sk-container-id-13 div.sk-estimator:hover {background-color: #d4ebff;}#sk-container-id-13 div.sk-parallel-item::after {content: \"\";width: 100%;border-bottom: 1px solid gray;flex-grow: 1;}#sk-container-id-13 div.sk-label:hover label.sk-toggleable__label {background-color: #d4ebff;}#sk-container-id-13 div.sk-serial::before {content: \"\";position: absolute;border-left: 1px solid gray;box-sizing: border-box;top: 0;bottom: 0;left: 50%;z-index: 0;}#sk-container-id-13 div.sk-serial {display: flex;flex-direction: column;align-items: center;background-color: white;padding-right: 0.2em;padding-left: 0.2em;position: relative;}#sk-container-id-13 div.sk-item {position: relative;z-index: 1;}#sk-container-id-13 div.sk-parallel {display: flex;align-items: stretch;justify-content: center;background-color: white;position: relative;}#sk-container-id-13 div.sk-item::before, #sk-container-id-13 div.sk-parallel-item::before {content: \"\";position: absolute;border-left: 1px solid gray;box-sizing: border-box;top: 0;bottom: 0;left: 50%;z-index: -1;}#sk-container-id-13 div.sk-parallel-item {display: flex;flex-direction: column;z-index: 1;position: relative;background-color: white;}#sk-container-id-13 div.sk-parallel-item:first-child::after {align-self: flex-end;width: 50%;}#sk-container-id-13 div.sk-parallel-item:last-child::after {align-self: flex-start;width: 50%;}#sk-container-id-13 div.sk-parallel-item:only-child::after {width: 0;}#sk-container-id-13 div.sk-dashed-wrapped {border: 1px dashed gray;margin: 0 0.4em 0.5em 0.4em;box-sizing: border-box;padding-bottom: 0.4em;background-color: white;}#sk-container-id-13 div.sk-label label {font-family: monospace;font-weight: bold;display: inline-block;line-height: 1.2em;}#sk-container-id-13 div.sk-label-container {text-align: center;}#sk-container-id-13 div.sk-container {/* jupyter's `normalize.less` sets `[hidden] { display: none; }` but bootstrap.min.css set `[hidden] { display: none !important; }` so we also need the `!important` here to be able to override the default hidden behavior on the sphinx rendered scikit-learn.org. See: https://github.com/scikit-learn/scikit-learn/issues/21755 */display: inline-block !important;position: relative;}#sk-container-id-13 div.sk-text-repr-fallback {display: none;}</style><div id=\"sk-container-id-13\" class=\"sk-top-container\"><div class=\"sk-text-repr-fallback\"><pre>LinearRegression()</pre><b>In a Jupyter environment, please rerun this cell to show the HTML representation or trust the notebook. <br />On GitHub, the HTML representation is unable to render, please try loading this page with nbviewer.org.</b></div><div class=\"sk-container\" hidden><div class=\"sk-item\"><div class=\"sk-estimator sk-toggleable\"><input class=\"sk-toggleable__control sk-hidden--visually\" id=\"sk-estimator-id-13\" type=\"checkbox\" checked><label for=\"sk-estimator-id-13\" class=\"sk-toggleable__label sk-toggleable__label-arrow\">LinearRegression</label><div class=\"sk-toggleable__content\"><pre>LinearRegression()</pre></div></div></div></div></div>"
            ]
          },
          "metadata": {},
          "execution_count": 147
        }
      ]
    },
    {
      "cell_type": "markdown",
      "source": [
        "**Step 06 : Make Predictions on the Test Data**"
      ],
      "metadata": {
        "id": "WCAiEtP4mLTl"
      }
    },
    {
      "cell_type": "code",
      "source": [
        "y_pred=model.predict(x_test)"
      ],
      "metadata": {
        "id": "BcfpCr2KirOa"
      },
      "execution_count": null,
      "outputs": []
    },
    {
      "cell_type": "markdown",
      "source": [
        "**Step 07 : Evaluating the Model**"
      ],
      "metadata": {
        "id": "wylbxWw7mQnI"
      }
    },
    {
      "cell_type": "code",
      "source": [
        "mse=mean_squared_error(y_test,y_pred)\n",
        "r2=r2_score(y_test,y_pred)"
      ],
      "metadata": {
        "id": "PoLDqu0viwwS"
      },
      "execution_count": null,
      "outputs": []
    },
    {
      "cell_type": "code",
      "source": [
        "print(f'Mean Squared Error: {mse}')\n",
        "print(f'R-squared: {r2}')"
      ],
      "metadata": {
        "colab": {
          "base_uri": "https://localhost:8080/"
        },
        "id": "GptWV9XRi66B",
        "outputId": "1f71dfb4-b44f-4f61-bc32-1d6bf19afdfd"
      },
      "execution_count": null,
      "outputs": [
        {
          "output_type": "stream",
          "name": "stdout",
          "text": [
            "Mean Squared Error: 3.1740973539761046\n",
            "R-squared: 0.899438024100912\n"
          ]
        }
      ]
    },
    {
      "cell_type": "markdown",
      "source": [
        "**Step 08 : Forecasting Sales using Entire Dataset**"
      ],
      "metadata": {
        "id": "RgZSCS00mYP1"
      }
    },
    {
      "cell_type": "code",
      "source": [
        "sales_forecast=model.predict(x)\n",
        "print(f'Sales forecast: {sales_forecast}')"
      ],
      "metadata": {
        "colab": {
          "base_uri": "https://localhost:8080/"
        },
        "id": "whPrMAoHjIK0",
        "outputId": "afa82347-fc48-40c6-94fe-406ecc3179ca"
      },
      "execution_count": null,
      "outputs": [
        {
          "output_type": "stream",
          "name": "stdout",
          "text": [
            "Sales forecast: [20.61397147 12.52942275 12.62381325 17.73087016 13.27071976 12.82693587\n",
            " 11.82149856 12.09580733  3.76381192 12.46646769  7.09983872 17.1342205\n",
            " 10.86633369  8.79795773 18.4598904  20.88988209 13.25103464 23.21214788\n",
            " 10.00337695 14.14222434 18.13614046 14.62763575  6.7146496  16.46055379\n",
            "  8.20010235 15.4544819  14.94912051 16.94141141 19.29818677  9.2767456\n",
            " 21.55384318 11.42760282  7.69340245 18.6439566   7.54498748 16.78110726\n",
            " 23.2179245  15.7927809  10.0553326  20.39840652 16.34309555 17.32216187\n",
            " 21.35732668 13.89573638  9.08364737 15.15506967  8.96290787 21.61235394\n",
            " 16.26867517  8.2866632  12.59806415  9.29612342 20.65730881 20.04956615\n",
            " 20.22223086 21.3876709   8.73628397 12.74960716 21.89621832 18.01050913\n",
            "  5.80957448 22.89655202 16.69074263 13.19615575 17.0204516   7.82740305\n",
            "  9.04831992 11.98138077 18.83109103 21.05719192 17.78093805 10.68338496\n",
            " 10.4745447   9.93190159 17.2147153  12.24966368  4.56899622 13.80024106\n",
            "  8.90349333  9.68827502 11.50948327 14.58279047 10.27759582 14.55604192\n",
            " 20.75753231 15.28340432 11.63897134 15.78644655 11.95582341 17.07581323\n",
            "  9.93897566  4.63324089 19.21762335 21.30695132 10.46184442 16.4080242\n",
            " 12.49609325 15.28339577 24.0815284  17.04266701 13.87795425 23.38327322\n",
            " 17.48223603 14.68732255 20.13766267 18.08882406  6.26045597  7.14343209\n",
            "  3.71138657 19.50751919 14.78639479 21.04366162 13.75827407 16.28133624\n",
            " 15.42650259 13.10559172 11.98158997  6.58862301 15.80154544  6.93551369\n",
            " 14.49733909  8.06467511 13.49562077 15.06565763 19.56036653  9.18349576\n",
            " 10.82735757  6.59177689 22.11237326  8.03429126 10.52652384 15.50872894\n",
            "  8.5066991  19.27317585 12.11364473 14.05514005 11.52842846 20.85411186\n",
            "  9.85919134 19.55991189  9.51414822 18.54942004 19.22784797  8.83116901\n",
            " 10.18954107  9.63893927 15.12377007 23.25016101 12.33620695  9.91658812\n",
            " 18.26661538 10.11504368 16.26507258 18.25637134 15.39751695  5.37285934\n",
            " 15.54859016  9.9925977  10.60850256 12.44666834 14.20410579 13.72169286\n",
            " 14.90122344 17.27515369 11.0174441  14.34554487 10.95309981 13.26651145\n",
            " 17.23784887 17.71880786  7.46101034 14.42212642  7.70552541 11.89014523\n",
            " 13.60634581 24.73172346 19.85962074 12.16494386 15.85631186 12.32682159\n",
            " 10.49853416 13.84977473  6.65328312 24.1769119  18.44410696 20.73543321\n",
            "  9.68959028 17.00702846 18.41173671  6.16937955 12.53781447  8.41601918\n",
            "  4.61136597 18.39608314 16.42698672  5.42585998  8.14200868 12.67337707\n",
            " 23.79333654 15.0118875 ]\n"
          ]
        }
      ]
    },
    {
      "cell_type": "markdown",
      "source": [
        "**Step 09 : Scatter plot of Actual Vs Predicted Sales Value**"
      ],
      "metadata": {
        "id": "DOM_f-ItmiXu"
      }
    },
    {
      "cell_type": "code",
      "source": [
        "plt.scatter(y_test,y_pred,color='green',label='Actual Vs Predicted')\n",
        "plt.plot([min(y_test),max(y_test)],[min(y_test),max(y_test)],color='red',linestyle='--')\n",
        "plt.xlabel('Actual Sales')\n",
        "plt.ylabel('Predicted Sales')\n",
        "plt.title('Actual Vs Predicted Sales')\n",
        "plt.legend()\n",
        "plt.show()"
      ],
      "metadata": {
        "colab": {
          "base_uri": "https://localhost:8080/",
          "height": 472
        },
        "id": "kSP3fvWRjaTC",
        "outputId": "175095e7-bc89-41af-ea99-577da1e280d5"
      },
      "execution_count": 157,
      "outputs": [
        {
          "output_type": "display_data",
          "data": {
            "text/plain": [
              "<Figure size 640x480 with 1 Axes>"
            ],
            "image/png": "[encoded data removed]"
          },
          "metadata": {}
        }
      ]
    }
  ]
}